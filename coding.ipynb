{
 "cells": [
  {
   "cell_type": "code",
   "execution_count": 1,
   "id": "b64f879f-c667-4037-bc2d-fd15ddf24e58",
   "metadata": {},
   "outputs": [
    {
     "name": "stdout",
     "output_type": "stream",
     "text": [
      "   ที่  เพศ  อายุ  ประสิทธิภาพ  เวลาในการออกฤทธิ์  รสชาติของยา\n",
      "0    1  ชาย    17            3                  4            3\n",
      "1    2  ชาย    17            4                  3            2\n",
      "2    3  ชาย    17            3                  3            3\n",
      "3    4  ชาย    17            3                  3            3\n",
      "4    5  ชาย    17            4                  3            4\n",
      "5    6  ชาย    16            4                  4            4\n",
      "6    7  ชาย    20            3                  3            3\n",
      "7    8  ชาย    20            3                  3            3\n",
      "8    9  ชาย    17            3                  4            4\n",
      "9   10  ชาย    17            3                  4            3\n"
     ]
    }
   ],
   "source": [
    "import pandas as pd\n",
    "df = pd.read_csv('test.csv')\n",
    "print(df)"
   ]
  },
  {
   "cell_type": "code",
   "execution_count": 2,
   "id": "437cf74d-0e73-45cd-9d31-d3e3ed6538e5",
   "metadata": {},
   "outputs": [
    {
     "name": "stdout",
     "output_type": "stream",
     "text": [
      "ที่                   int64\n",
      "เพศ                  object\n",
      "อายุ                  int64\n",
      "ประสิทธิภาพ           int64\n",
      "เวลาในการออกฤทธิ์     int64\n",
      "รสชาติของยา           int64\n",
      "dtype: object\n"
     ]
    }
   ],
   "source": [
    "import pandas as pd\n",
    "df = pd.read_csv('test.csv')\n",
    "print (df.dtypes)\n"
   ]
  }
 ],
 "metadata": {
  "kernelspec": {
   "display_name": "base",
   "language": "python",
   "name": "python3"
  },
  "language_info": {
   "codemirror_mode": {
    "name": "ipython",
    "version": 3
   },
   "file_extension": ".py",
   "mimetype": "text/x-python",
   "name": "python",
   "nbconvert_exporter": "python",
   "pygments_lexer": "ipython3",
   "version": "3.9.13 (main, Aug 25 2022, 18:29:29) \n[Clang 12.0.0 ]"
  },
  "vscode": {
   "interpreter": {
    "hash": "40d3a090f54c6569ab1632332b64b2c03c39dcf918b08424e98f38b5ae0af88f"
   }
  }
 },
 "nbformat": 4,
 "nbformat_minor": 5
}
